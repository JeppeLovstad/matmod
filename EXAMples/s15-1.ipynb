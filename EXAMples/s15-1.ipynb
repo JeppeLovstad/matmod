{
 "cells": [
  {
   "cell_type": "code",
   "execution_count": 33,
   "metadata": {
    "collapsed": false
   },
   "outputs": [],
   "source": [
    "source(\"../R/functions.R\");"
   ]
  },
  {
   "cell_type": "code",
   "execution_count": 34,
   "metadata": {
    "collapsed": false
   },
   "outputs": [
    {
     "data": {
      "text/html": [
       "Model for lineær regression"
      ]
     },
     "metadata": {},
     "output_type": "display_data"
    },
    {
     "data": {
      "text/latex": [
       "$ M: X_i \\sim N(\\alpha + \\beta t_i, \\sigma^2), \\quad i = 1, \\dots, n  $"
      ]
     },
     "metadata": {},
     "output_type": "display_data"
    },
    {
     "data": {
      "text/latex": [
       "$ n = 20 $"
      ]
     },
     "metadata": {},
     "output_type": "display_data"
    },
    {
     "data": {
      "text/latex": [
       "$ S_x = 120.622 $"
      ]
     },
     "metadata": {},
     "output_type": "display_data"
    },
    {
     "data": {
      "text/latex": [
       "$ S_t = 108.068 $"
      ]
     },
     "metadata": {},
     "output_type": "display_data"
    },
    {
     "data": {
      "text/latex": [
       "$ USS_x = 742.121606 $"
      ]
     },
     "metadata": {},
     "output_type": "display_data"
    },
    {
     "data": {
      "text/latex": [
       "$ USS_t = 596.990072 $"
      ]
     },
     "metadata": {},
     "output_type": "display_data"
    },
    {
     "data": {
      "text/latex": [
       "$ SSD_t = USS_t - \\frac{S_t^2}{n} = 13.0554408 $"
      ]
     },
     "metadata": {},
     "output_type": "display_data"
    },
    {
     "data": {
      "text/latex": [
       "$ SSD_x = USS_x - \\frac{S_x^2}{n} = 14.6382618 $"
      ]
     },
     "metadata": {},
     "output_type": "display_data"
    },
    {
     "data": {
      "text/latex": [
       "$ SP_{xt} = 664.381658 $"
      ]
     },
     "metadata": {},
     "output_type": "display_data"
    },
    {
     "data": {
      "text/latex": [
       "$ \\bar{x}. = \\frac{S_x}{n} = 6.0311 $"
      ]
     },
     "metadata": {},
     "output_type": "display_data"
    },
    {
     "data": {
      "text/latex": [
       "$ \\bar{t}. = \\frac{S_t}{n} = 5.4034 $"
      ]
     },
     "metadata": {},
     "output_type": "display_data"
    },
    {
     "data": {
      "text/latex": [
       "$ SPD_{xt} = SP_{xt} - \\frac{S_x S_t}{n} = 664.381658 - \\frac{120.622 \\cdot 108.068}{20} = 12.6127432000001 $"
      ]
     },
     "metadata": {},
     "output_type": "display_data"
    },
    {
     "data": {
      "text/latex": [
       "$ \\hat{\\beta} = \\frac{SPD_{xt}}{SSD_t} = \\frac{12.6127432000001}{13.0554408} = 0.966090949606238 \\sim\\sim N(\\beta, \\frac{\\sigma^2}{SSD_t}) $"
      ]
     },
     "metadata": {},
     "output_type": "display_data"
    },
    {
     "data": {
      "text/latex": [
       "$ \\hat{\\alpha} = \\frac{S_x - \\hat{\\beta} S_t}{n} = \\frac{120.622 - 0.966090949606238 \\cdot 108.068}{20} = 0.810924162897653 \\sim\\sim N(\\alpha, \\sigma^2 (\\frac{1}{n} + \\frac{\\bar{t}.^2}{SSD_t})) $"
      ]
     },
     "metadata": {},
     "output_type": "display_data"
    },
    {
     "data": {
      "text/latex": [
       "$ t_{0.975}(n - 2) = 2.10092204024104 $"
      ]
     },
     "metadata": {},
     "output_type": "display_data"
    },
    {
     "data": {
      "text/latex": [
       "$ SSD_{02} = SSD_x - \\frac{SPD_{xt}^2}{SSD_t} = 14.6382618 - \\frac{12.6127432000001^2}{13.0554408} = 2.45320474477232 $"
      ]
     },
     "metadata": {},
     "output_type": "display_data"
    },
    {
     "data": {
      "text/html": [
       "estimat for varians"
      ]
     },
     "metadata": {},
     "output_type": "display_data"
    },
    {
     "data": {
      "text/latex": [
       "$ s_{02}^2 = \\frac{SSD_{02}}{n - 2} = 0.136289152487351 \\sim\\sim \\sigma^2 \\chi^2(f_{02})/f_{02} $"
      ]
     },
     "metadata": {},
     "output_type": "display_data"
    },
    {
     "data": {
      "text/latex": [
       "$ StdError(\\hat{\\beta})  = \\sqrt{\\frac{s_{02}^2}{SSD_t}} = 0.102172701273739 $"
      ]
     },
     "metadata": {},
     "output_type": "display_data"
    },
    {
     "data": {
      "text/latex": [
       "$ StdError(\\hat{\\alpha}) = \\sqrt{s_{02}^2 \\cdot \\left(\\frac{1}{n} + \\frac{\\bar{t}.^2}{SSD_t}\\right)} = 0.558217480365173 $"
      ]
     },
     "metadata": {},
     "output_type": "display_data"
    },
    {
     "data": {
      "text/latex": [
       "$ C_{95}(\\beta) = \\hat{\\beta} \\mp t_{0.975}(n - 2) \\cdot StdError (\\hat{\\beta}) = 0.966090949606238 \\mp 0.214656880016962 = [0.751434069589276; 1.1807478296232] $"
      ]
     },
     "metadata": {},
     "output_type": "display_data"
    },
    {
     "data": {
      "text/latex": [
       "$ C_{95}(\\alpha) = \\hat{\\alpha} \\mp t_{0.975}(n - 2) \\cdot StdError (\\hat{\\alpha}) = 0.810924162897653 \\mp 1.17277140774701 = [-0.361847244849359; 1.98369557064466] $"
      ]
     },
     "metadata": {},
     "output_type": "display_data"
    }
   ],
   "source": [
    "printLinearRegressionEstimates(n = 20, Sx = 120.622, USSx = 742.121606, St = 108.068, USSt = 596.990072, SPxt = 664.381658)"
   ]
  },
  {
   "cell_type": "code",
   "execution_count": 35,
   "metadata": {
    "collapsed": false
   },
   "outputs": [
    {
     "ename": "ERROR",
     "evalue": "Error in linearRegressionBetaHypothesis(n, Sx, St, USSx, USSt, SPxt, betaGuess): object 's_03Start' not found\n",
     "output_type": "error",
     "traceback": [
      "Error in linearRegressionBetaHypothesis(n, Sx, St, USSx, USSt, SPxt, betaGuess): object 's_03Start' not found\nTraceback:\n",
      "1. printLinearRegressionBetaHypothesis(n = 20, Sx = 120.622, USSx = 742.121606, \n .     St = 108.068, USSt = 596.990072, SPxt = 664.381658, betaGuess = 1)",
      "2. linearRegressionBetaHypothesis(n, Sx, St, USSx, USSt, SPxt, betaGuess)"
     ]
    }
   ],
   "source": [
    "printLinearRegressionBetaHypothesis(n = 20, Sx = 120.622, USSx = 742.121606, St = 108.068, USSt = 596.990072, SPxt = 664.381658, betaGuess = 1)"
   ]
  },
  {
   "cell_type": "code",
   "execution_count": null,
   "metadata": {
    "collapsed": true
   },
   "outputs": [],
   "source": []
  }
 ],
 "metadata": {
  "kernelspec": {
   "display_name": "R",
   "language": "R",
   "name": "ir"
  },
  "language_info": {
   "codemirror_mode": "r",
   "file_extension": ".r",
   "mimetype": "text/x-r-source",
   "name": "R",
   "pygments_lexer": "r",
   "version": "3.3.2"
  }
 },
 "nbformat": 4,
 "nbformat_minor": 2
}
