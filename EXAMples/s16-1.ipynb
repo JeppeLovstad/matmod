{
 "cells": [
  {
   "cell_type": "code",
   "execution_count": 32,
   "metadata": {
    "collapsed": false
   },
   "outputs": [],
   "source": [
    "source(\"../R/functions.R\");"
   ]
  },
  {
   "cell_type": "code",
   "execution_count": 33,
   "metadata": {
    "collapsed": false
   },
   "outputs": [
    {
     "data": {
      "text/latex": [
       "$ f_{(1)} = n_1 - 1 = 27 $"
      ]
     },
     "metadata": {},
     "output_type": "display_data"
    },
    {
     "data": {
      "text/latex": [
       "$ f_{(2)} = n_2 - 1 = 29 $"
      ]
     },
     "metadata": {},
     "output_type": "display_data"
    },
    {
     "data": {
      "text/latex": [
       "$ SSD_{(1)} = USS_1 - \\frac{S_1^2}{n_1} = 61459.857142857 $"
      ]
     },
     "metadata": {},
     "output_type": "display_data"
    },
    {
     "data": {
      "text/latex": [
       "$ SSD_{(2)} = USS_2 - \\frac{S_2^2}{n_2} = 14421.4666666666 $"
      ]
     },
     "metadata": {},
     "output_type": "display_data"
    },
    {
     "data": {
      "text/latex": [
       "$ \\sigma_1^2 \\leftarrow s_{(1)}^2 = \\frac{SSD_{(1)}}{f_{(1)}} = \\frac{61459.857142857}{27} = 2276.291005291 $"
      ]
     },
     "metadata": {},
     "output_type": "display_data"
    },
    {
     "data": {
      "text/latex": [
       "$ \\sigma_2^2 \\leftarrow s_{(2)}^2 = \\frac{SSD_{(2)}}{f_{(2)}} = \\frac{14421.4666666666}{29} = 497.291954022985 $"
      ]
     },
     "metadata": {},
     "output_type": "display_data"
    },
    {
     "data": {
      "text/latex": [
       "$ \\mu_1 \\leftarrow \\bar{x}_1. = \\frac{S_1}{n_1} = 253.928571428571 $"
      ]
     },
     "metadata": {},
     "output_type": "display_data"
    },
    {
     "data": {
      "text/latex": [
       "$ \\mu_2 \\leftarrow \\bar{x}_2. = \\frac{S_2}{n_2} = 193.133333333333 $"
      ]
     },
     "metadata": {},
     "output_type": "display_data"
    },
    {
     "data": {
      "text/latex": [
       "$ \\bar{x_1}. - \\bar{x_2}. = 253.928571428571 - 193.133333333333 = 60.7952380952381 $"
      ]
     },
     "metadata": {},
     "output_type": "display_data"
    },
    {
     "data": {
      "text/html": [
       "<h2>Tester hypotese om ens varians</h2>"
      ]
     },
     "metadata": {},
     "output_type": "display_data"
    },
    {
     "data": {
      "text/html": [
       "Vi laver F-test for hypotesen: $ H_{0,\\sigma^2}: \\sigma_1^2 = \\sigma_2^2 = \\sigma $"
      ]
     },
     "metadata": {},
     "output_type": "display_data"
    },
    {
     "data": {
      "text/html": [
       "F-teststørrelsen er"
      ]
     },
     "metadata": {},
     "output_type": "display_data"
    },
    {
     "data": {
      "text/latex": [
       "\\begin{align*} F &= \\frac{\\max(s_{(1)}^2, s_{(2)}^2)}{\\min(s_{(1)}^2, s_{(2)}^2)} = \\frac{2276.291005291}{497.291954022985} \\\\ &= 4.5773734862917 \\sim\\sim F(27, 29) \\end{align*}"
      ]
     },
     "metadata": {},
     "output_type": "display_data"
    },
    {
     "data": {
      "text/html": [
       "Testsandsynligheden beregnes som"
      ]
     },
     "metadata": {},
     "output_type": "display_data"
    },
    {
     "data": {
      "text/latex": [
       "$ p_{obs}(x) = 2 (1 - F_{F(27, 29)}(4.5773734862917)) = 0.000116845322778225 $"
      ]
     },
     "metadata": {},
     "output_type": "display_data"
    },
    {
     "data": {
      "text/html": [
       "Da $p_{obs}$ er mindre end $0.05$ <b>forkastes</b> hypotesen om fælles varians."
      ]
     },
     "metadata": {},
     "output_type": "display_data"
    },
    {
     "data": {
      "text/html": [
       "<h2>Tester hypotese om ens middelværdi</h2>"
      ]
     },
     "metadata": {},
     "output_type": "display_data"
    },
    {
     "data": {
      "text/html": [
       "Vi laver en $t$-test for at teste hypotesen: $ H_{0\\mu}: \\mu_1 = \\mu_2 = \\mu $"
      ]
     },
     "metadata": {},
     "output_type": "display_data"
    },
    {
     "data": {
      "text/html": [
       "frihedsgraderne beregnes"
      ]
     },
     "metadata": {},
     "output_type": "display_data"
    },
    {
     "data": {
      "text/latex": [
       "$ \\bar{f} = \\frac{ \\left ( \\frac{ s^2_{(1)} }{ n_1 } + \\frac{ s^2_{(2)} }{ n_2 } \\right )^2 }{ \\frac{ \\left ( \\frac{ s^2_{(1)} }{ n_1 } \\right )^2 }{ f_{(1)} } + \\frac{ \\left ( \\frac{ s^2_{(2)} }{ n_2 }\\right )^2 }{ f_{(2)} }  } = 37.6748890024945 $"
      ]
     },
     "metadata": {},
     "output_type": "display_data"
    },
    {
     "data": {
      "text/html": [
       "t-teststørrelsen er"
      ]
     },
     "metadata": {},
     "output_type": "display_data"
    },
    {
     "data": {
      "text/latex": [
       "$ t(x) = \\frac{ \\bar{x}_1. - \\bar{x}_2. }{ \\sqrt{ \\frac{ s^2_{(1)} }{ n_1 } + \\frac{ s^2_{(2)} }{ n_2 } } } = 6.14524510963081 \\sim \\sim t(37.6748890024945) $"
      ]
     },
     "metadata": {},
     "output_type": "display_data"
    },
    {
     "data": {
      "text/html": [
       "Testsandsynligheden beregnes som"
      ]
     },
     "metadata": {},
     "output_type": "display_data"
    },
    {
     "data": {
      "text/latex": [
       "$ p_{obs}(x) = 2 \\left(1 - F_{t(\\bar{f})}\\left(\\lvert t(x)\\rvert\\right) \\right) = 0.000000372087901823193 $"
      ]
     },
     "metadata": {},
     "output_type": "display_data"
    },
    {
     "data": {
      "text/html": [
       "Da $p_{obs}$ er mindre end $0.05$ <b>forkastes</b> hypotesen om fælles middelværdi."
      ]
     },
     "metadata": {},
     "output_type": "display_data"
    },
    {
     "data": {
      "text/html": [
       "Den estimerede spredning på $ \\bar{x_1}. - \\bar{x_2}. $ er"
      ]
     },
     "metadata": {},
     "output_type": "display_data"
    },
    {
     "data": {
      "text/latex": [
       "$ StdError(\\bar{x_1}. - \\bar{x_2}.) = \\sqrt{s_{(1)}^2 / n_1 + s_{(2)}^2 / n_2} = 9.89305341132121 $"
      ]
     },
     "metadata": {},
     "output_type": "display_data"
    },
    {
     "data": {
      "text/latex": [
       "\\begin{align*} c_{95}(\\mu_1 - \\mu_2)\n",
       "&= \\bar{x_1}. - \\bar{x_2}. \\pm t_{0.975}(\\bar{f}) StdError(\\bar{x_1}. - \\bar{x_2}.) \\\\\n",
       "&= 253.928571428571 - 193.133333333333 \\pm 2.02496800413642 \\cdot 9.89305341132121 \\\\\n",
       "&= 60.7952380952381 \\pm 20.0331166211381 \\\\\n",
       "&= [40.7621214741, 80.8283547163762]\n",
       " \\end{align*}"
      ]
     },
     "metadata": {},
     "output_type": "display_data"
    }
   ],
   "source": [
    "printTwoObservations(n1 = 28, S1 = 7110, USS1 = 1866892, n2 = 30, S2 = 5794, USS2 = 1133436)"
   ]
  },
  {
   "cell_type": "code",
   "execution_count": null,
   "metadata": {
    "collapsed": true
   },
   "outputs": [],
   "source": []
  }
 ],
 "metadata": {
  "kernelspec": {
   "display_name": "R",
   "language": "R",
   "name": "ir"
  },
  "language_info": {
   "codemirror_mode": "r",
   "file_extension": ".r",
   "mimetype": "text/x-r-source",
   "name": "R",
   "pygments_lexer": "r",
   "version": "3.3.2"
  }
 },
 "nbformat": 4,
 "nbformat_minor": 2
}
