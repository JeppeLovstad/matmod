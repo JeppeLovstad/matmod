{
 "cells": [
  {
   "cell_type": "code",
   "execution_count": 15,
   "metadata": {
    "collapsed": false
   },
   "outputs": [],
   "source": [
    "source(\"../R/functions.R\");"
   ]
  },
  {
   "cell_type": "code",
   "execution_count": 2,
   "metadata": {
    "collapsed": true
   },
   "outputs": [],
   "source": [
    "data = matrix(\n",
    "    c(23, 26, 235, 269), nrow = 2, ncol = 2\n",
    ")"
   ]
  },
  {
   "cell_type": "code",
   "execution_count": 3,
   "metadata": {
    "collapsed": false
   },
   "outputs": [
    {
     "data": {
      "text/html": [
       "<h2>Tester hypotese om homogenitet"
      ]
     },
     "metadata": {},
     "output_type": "display_data"
    },
    {
     "data": {
      "text/latex": [
       "$ M_0: \\pmb{X}_i = (X_{i1}, \\dots, X_{i 2}) \\sim m(n_i, \\pi_i) $"
      ]
     },
     "metadata": {},
     "output_type": "display_data"
    },
    {
     "data": {
      "text/latex": [
       "$ H_{01}: \\pmb{\\pi}_1 = \\dots = \\pmb{\\pi}_2 = \\pmb{\\pi} $"
      ]
     },
     "metadata": {},
     "output_type": "display_data"
    },
    {
     "data": {
      "text/html": [
       "Vi ønsker at gå til modellen"
      ]
     },
     "metadata": {},
     "output_type": "display_data"
    },
    {
     "data": {
      "text/latex": [
       "$ M_1: \\pmb{X}_i = (X_{i1}, \\dots, X_{i 2}) \\sim m(n_i, \\pi) $"
      ]
     },
     "metadata": {},
     "output_type": "display_data"
    },
    {
     "data": {
      "text/latex": [
       "$ s = 2 \\quad \\text{(antal søjler)} $"
      ]
     },
     "metadata": {},
     "output_type": "display_data"
    },
    {
     "data": {
      "text/latex": [
       "$ r = 2 \\quad \\text{(antal rækker)} $"
      ]
     },
     "metadata": {},
     "output_type": "display_data"
    },
    {
     "data": {
      "text/html": [
       "<b>data</b>"
      ]
     },
     "metadata": {},
     "output_type": "display_data"
    },
    {
     "data": {
      "text/html": [
       "<table>\n",
       "<tbody>\n",
       "\t<tr><td>23 </td><td>235</td></tr>\n",
       "\t<tr><td>26 </td><td>269</td></tr>\n",
       "</tbody>\n",
       "</table>\n"
      ]
     },
     "metadata": {},
     "output_type": "display_data"
    },
    {
     "data": {
      "text/html": [
       "<b>e</b> &nbsp (forventede værdier under hypotese)"
      ]
     },
     "metadata": {},
     "output_type": "display_data"
    },
    {
     "data": {
      "text/html": [
       "<table>\n",
       "<tbody>\n",
       "\t<tr><td>22.86076</td><td>235.1392</td></tr>\n",
       "\t<tr><td>26.13924</td><td>268.8608</td></tr>\n",
       "</tbody>\n",
       "</table>\n"
      ]
     },
     "metadata": {},
     "output_type": "display_data"
    },
    {
     "data": {
      "text/html": [
       "Den mindste forventede værdi er 22.8607594936709, denne skal helst være større end 5"
      ]
     },
     "metadata": {},
     "output_type": "display_data"
    },
    {
     "data": {
      "text/latex": [
       "$ -2ln(Q(x)) = 2 \\sum\\limits_{i=1}^{r} \\sum\\limits_{j=1}^{s} x_{ij} ln (\\frac{x_{ij}}{e_{ij}}) = 0.00174397627503803 $"
      ]
     },
     "metadata": {},
     "output_type": "display_data"
    },
    {
     "data": {
      "text/latex": [
       "$ p_{obs}(x) = 1 - F_{\\chi^2(r - 1)(s - 1)}(- 2 ln (Q(x))) = 0.966689271617718 $"
      ]
     },
     "metadata": {},
     "output_type": "display_data"
    },
    {
     "data": {
      "text/html": [
       "Da $p_{obs}(x)$ er større end $0.05$ kan hypotesen <b>ikke</b> forkastes."
      ]
     },
     "metadata": {},
     "output_type": "display_data"
    },
    {
     "data": {
      "text/html": [
       "Vi har defor nu kun én $ \\pmb{\\pi} $."
      ]
     },
     "metadata": {},
     "output_type": "display_data"
    },
    {
     "data": {
      "text/latex": [
       "$ \\pmb{\\pi} \\leftarrow \\pmb{\\hat{\\pi}}(\\pmb{x}) = (\\frac{x_1}{n}, \\dots, \\frac{x_j}{n}, \\dots, \\frac{x_k}{n})^* = ( 0.0886075949367089, 0.911392405063291 ) $"
      ]
     },
     "metadata": {},
     "output_type": "display_data"
    },
    {
     "data": {
      "text/html": [
       "Konfidens intervallerne for de 2 komponenter i $ \\pmb{\\pi} $"
      ]
     },
     "metadata": {},
     "output_type": "display_data"
    },
    {
     "data": {
      "text/latex": [
       "$ c_{0.95}(\\pi_1) = [0.0676721235914764, 0.11521938451424] $"
      ]
     },
     "metadata": {},
     "output_type": "display_data"
    },
    {
     "data": {
      "text/latex": [
       "$ c_{0.95}(\\pi_2) = [0.88478061548576, 0.932327876408524] $"
      ]
     },
     "metadata": {},
     "output_type": "display_data"
    }
   ],
   "source": [
    "printTestHomogeneity(data)"
   ]
  },
  {
   "cell_type": "code",
   "execution_count": 4,
   "metadata": {
    "collapsed": true
   },
   "outputs": [],
   "source": [
    "data2 = matrix(\n",
    "    c(9, 11, 8, 5, 6, 10), nrow = 2, ncol = 3\n",
    ")"
   ]
  },
  {
   "cell_type": "code",
   "execution_count": 42,
   "metadata": {
    "collapsed": false
   },
   "outputs": [
    {
     "data": {
      "text/html": [
       "<h2>Tester hypotese om homogenitet"
      ]
     },
     "metadata": {},
     "output_type": "display_data"
    },
    {
     "data": {
      "text/latex": [
       "$ M_0: \\pmb{X}_i = (X_{i1}, \\dots, X_{i 3}) \\sim m(n_i, \\pi_i) $"
      ]
     },
     "metadata": {},
     "output_type": "display_data"
    },
    {
     "data": {
      "text/latex": [
       "$ H_{01}: \\pmb{\\pi}_1 = \\dots = \\pmb{\\pi}_2 = \\pmb{\\pi} $"
      ]
     },
     "metadata": {},
     "output_type": "display_data"
    },
    {
     "data": {
      "text/html": [
       "Vi ønsker at gå til modellen"
      ]
     },
     "metadata": {},
     "output_type": "display_data"
    },
    {
     "data": {
      "text/latex": [
       "$ M_1: \\pmb{X}_i = (X_{i1}, \\dots, X_{i 3}) \\sim m(n_i, \\pi) $"
      ]
     },
     "metadata": {},
     "output_type": "display_data"
    },
    {
     "data": {
      "text/latex": [
       "$ s = 3 \\quad \\text{(antal søjler)} $"
      ]
     },
     "metadata": {},
     "output_type": "display_data"
    },
    {
     "data": {
      "text/latex": [
       "$ r = 2 \\quad \\text{(antal rækker)} $"
      ]
     },
     "metadata": {},
     "output_type": "display_data"
    },
    {
     "data": {
      "text/html": [
       "<b>data</b>"
      ]
     },
     "metadata": {},
     "output_type": "display_data"
    },
    {
     "data": {
      "text/html": [
       "<table>\n",
       "<tbody>\n",
       "\t<tr><td> 9</td><td>8 </td><td> 6</td></tr>\n",
       "\t<tr><td>11</td><td>5 </td><td>10</td></tr>\n",
       "</tbody>\n",
       "</table>\n"
      ]
     },
     "metadata": {},
     "output_type": "display_data"
    },
    {
     "data": {
      "text/html": [
       "<b>e</b> &nbsp (forventede værdier under hypotese)"
      ]
     },
     "metadata": {},
     "output_type": "display_data"
    },
    {
     "data": {
      "text/html": [
       "<table>\n",
       "<tbody>\n",
       "\t<tr><td> 9.387755</td><td>6.102041 </td><td>7.510204 </td></tr>\n",
       "\t<tr><td>10.612245</td><td>6.897959 </td><td>8.489796 </td></tr>\n",
       "</tbody>\n",
       "</table>\n"
      ]
     },
     "metadata": {},
     "output_type": "display_data"
    },
    {
     "data": {
      "text/html": [
       "Den mindste forventede værdi er 6.10204081632653, denne skal helst være større end 5"
      ]
     },
     "metadata": {},
     "output_type": "display_data"
    },
    {
     "data": {
      "text/latex": [
       "$ -2ln(Q(x)) = 2 \\sum\\limits_{i=1}^{r} \\sum\\limits_{j=1}^{s} x_{ij} ln (\\frac{x_{ij}}{e_{ij}}) = 1.72581963260292 $"
      ]
     },
     "metadata": {},
     "output_type": "display_data"
    },
    {
     "data": {
      "text/latex": [
       "$ p_{obs}(x) = 1 - F_{\\chi^2(r - 1)(s - 1)}(- 2 ln (Q(x))) = 0.421932548119331 $"
      ]
     },
     "metadata": {},
     "output_type": "display_data"
    },
    {
     "data": {
      "text/html": [
       "Da $p_{obs}(x)$ er større end $0.05$ kan hypotesen <b>ikke</b> forkastes."
      ]
     },
     "metadata": {},
     "output_type": "display_data"
    },
    {
     "data": {
      "text/html": [
       "Vi har defor nu kun én $ \\pmb{\\pi} $."
      ]
     },
     "metadata": {},
     "output_type": "display_data"
    },
    {
     "data": {
      "text/latex": [
       "$ \\pmb{\\pi} \\leftarrow \\pmb{\\hat{\\pi}}(\\pmb{x}) = (\\frac{x_1}{n}, \\dots, \\frac{x_j}{n}, \\dots, \\frac{x_k}{n})^* = ( 0.408163265306122, 0.26530612244898, 0.326530612244898 ) $"
      ]
     },
     "metadata": {},
     "output_type": "display_data"
    },
    {
     "data": {
      "text/html": [
       "Konfidens intervallerne for de 3 komponenter i $ \\pmb{\\pi} $"
      ]
     },
     "metadata": {},
     "output_type": "display_data"
    },
    {
     "data": {
      "text/latex": [
       "$ c_{0.95}(\\pi_1) = [0.282150346059711, 0.547529300279537] $"
      ]
     },
     "metadata": {},
     "output_type": "display_data"
    },
    {
     "data": {
      "text/latex": [
       "$ c_{0.95}(\\pi_2) = [0.162111312451494, 0.402625561526583] $"
      ]
     },
     "metadata": {},
     "output_type": "display_data"
    },
    {
     "data": {
      "text/latex": [
       "$ c_{0.95}(\\pi_3) = [0.212073213292642, 0.466210563125937] $"
      ]
     },
     "metadata": {},
     "output_type": "display_data"
    }
   ],
   "source": [
    "printTestHomogeneity(data2)"
   ]
  },
  {
   "cell_type": "code",
   "execution_count": 46,
   "metadata": {
    "collapsed": false
   },
   "outputs": [
    {
     "data": {
      "text/latex": [
       "$ H_0: \\pmb{\\pi} = \\pmb{\\pi}_0 = ( 0.333333333333333, 0.333333333333333, 0.333333333333333 ) $"
      ]
     },
     "metadata": {},
     "output_type": "display_data"
    },
    {
     "data": {
      "text/html": [
       "<table>\n",
       "<tbody>\n",
       "\t<tr><th scope=row>observeret</th><td>20.00000</td><td>13.00000</td><td>16.00000</td></tr>\n",
       "\t<tr><th scope=row>forventede</th><td>16.33333</td><td>16.33333</td><td>16.33333</td></tr>\n",
       "</tbody>\n",
       "</table>\n"
      ]
     },
     "metadata": {},
     "output_type": "display_data"
    },
    {
     "data": {
      "text/latex": [
       "$ -2lnQ(\\pmb{x}) = \\sum\\limits_{j=1}^{k} x_j ln(\\frac{x_j}{e_j}) = 1.50642842246594 $"
      ]
     },
     "metadata": {},
     "output_type": "display_data"
    },
    {
     "data": {
      "text/latex": [
       "$ p_{obs}(\\pmb{x}) = 1 - F_{\\chi^2(k - 1 - d)}(-2 ln(Q(\\pmb{x}))) = 0.470850704294705 $"
      ]
     },
     "metadata": {},
     "output_type": "display_data"
    }
   ],
   "source": [
    "source(\"../R/functions.R\"); printTestProbabilityVector(c(20, 13, 16), c(1/3, 1/3, 1/3))"
   ]
  },
  {
   "cell_type": "code",
   "execution_count": null,
   "metadata": {
    "collapsed": true
   },
   "outputs": [],
   "source": []
  }
 ],
 "metadata": {
  "kernelspec": {
   "display_name": "R",
   "language": "R",
   "name": "ir"
  },
  "language_info": {
   "codemirror_mode": "r",
   "file_extension": ".r",
   "mimetype": "text/x-r-source",
   "name": "R",
   "pygments_lexer": "r",
   "version": "3.3.2"
  }
 },
 "nbformat": 4,
 "nbformat_minor": 2
}
