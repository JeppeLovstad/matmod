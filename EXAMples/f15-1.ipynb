{
 "cells": [
  {
   "cell_type": "code",
   "execution_count": 11,
   "metadata": {
    "collapsed": false
   },
   "outputs": [],
   "source": [
    "source(\"../R/functions.R\");"
   ]
  },
  {
   "cell_type": "code",
   "execution_count": 12,
   "metadata": {
    "collapsed": false
   },
   "outputs": [
    {
     "data": {
      "text/latex": [
       "$ f_{(1)} = n_1 - 1 = 40 $"
      ]
     },
     "metadata": {},
     "output_type": "display_data"
    },
    {
     "data": {
      "text/latex": [
       "$ f_{(2)} = n_2 - 1 = 40 $"
      ]
     },
     "metadata": {},
     "output_type": "display_data"
    },
    {
     "data": {
      "text/latex": [
       "$ SSD_{(1)} = USS_1 - \\frac{S_1^2}{n_1} = 12.2364558780488 $"
      ]
     },
     "metadata": {},
     "output_type": "display_data"
    },
    {
     "data": {
      "text/latex": [
       "$ SSD_{(2)} = USS_2 - \\frac{S_2^2}{n_2} = 16.6835115121951 $"
      ]
     },
     "metadata": {},
     "output_type": "display_data"
    },
    {
     "data": {
      "text/latex": [
       "$ \\sigma_1^2 \\leftarrow s_{(1)}^2 = \\frac{SSD_{(1)}}{f_{(1)}} = \\frac{12.2364558780488}{40} = 0.30591139695122 $"
      ]
     },
     "metadata": {},
     "output_type": "display_data"
    },
    {
     "data": {
      "text/latex": [
       "$ \\sigma_2^2 \\leftarrow s_{(2)}^2 = \\frac{SSD_{(2)}}{f_{(2)}} = \\frac{16.6835115121951}{40} = 0.417087787804877 $"
      ]
     },
     "metadata": {},
     "output_type": "display_data"
    },
    {
     "data": {
      "text/latex": [
       "$ \\mu_1 \\leftarrow \\bar{x}_1. = \\frac{S_1}{n_1} = 3.96568292682927 $"
      ]
     },
     "metadata": {},
     "output_type": "display_data"
    },
    {
     "data": {
      "text/latex": [
       "$ \\mu_2 \\leftarrow \\bar{x}_2. = \\frac{S_2}{n_2} = 4.26863414634146 $"
      ]
     },
     "metadata": {},
     "output_type": "display_data"
    },
    {
     "data": {
      "text/latex": [
       "\\begin{align*} \\mu_1 - \\mu_2 \\leftarrow \\bar{x_1}. - \\bar{x_2}. &= 3.96568292682927 - 4.26863414634146\\\\ &= -0.302951219512196 \\end{align*}"
      ]
     },
     "metadata": {},
     "output_type": "display_data"
    },
    {
     "data": {
      "text/html": [
       "<h2>Tester hypotese om ens varians</h2>"
      ]
     },
     "metadata": {},
     "output_type": "display_data"
    },
    {
     "data": {
      "text/html": [
       "Vi laver F-test for hypotesen: $ H_{0,\\sigma^2}: \\sigma_1^2 = \\sigma_2^2 = \\sigma $"
      ]
     },
     "metadata": {},
     "output_type": "display_data"
    },
    {
     "data": {
      "text/html": [
       "F-teststørrelsen er"
      ]
     },
     "metadata": {},
     "output_type": "display_data"
    },
    {
     "data": {
      "text/latex": [
       "\\begin{align*} F &= \\frac{\\max(s_{(1)}^2, s_{(2)}^2)}{\\min(s_{(1)}^2, s_{(2)}^2)} = \\frac{0.417087787804877}{0.30591139695122} \\\\ &= 1.36342676984796 \\sim\\sim F(40, 40) \\end{align*}"
      ]
     },
     "metadata": {},
     "output_type": "display_data"
    },
    {
     "data": {
      "text/html": [
       "Testsandsynligheden beregnes som"
      ]
     },
     "metadata": {},
     "output_type": "display_data"
    },
    {
     "data": {
      "text/latex": [
       "$ p_{obs}(x) = 2 (1 - F_{F(40, 40)}(1.36342676984796)) = 0.330913753496132 $"
      ]
     },
     "metadata": {},
     "output_type": "display_data"
    },
    {
     "data": {
      "text/html": [
       "Da $p_{obs}(x)$ er større end $0.05$ kan hypotesen om fælles varians <b>ikke</b> forkastes."
      ]
     },
     "metadata": {},
     "output_type": "display_data"
    },
    {
     "data": {
      "text/html": [
       "Den fælles varians er da:"
      ]
     },
     "metadata": {},
     "output_type": "display_data"
    },
    {
     "data": {
      "text/latex": [
       "$ \\sigma^2 \\leftarrow s_1^2=\\frac{\\sum_{i=1}^kSSD_{(i)}}{\\sum_{i=1}^kf_{(i)}}=0.361499592378048 \\sim\\sim \\sigma^2\\chi^2(80)/80 $"
      ]
     },
     "metadata": {},
     "output_type": "display_data"
    },
    {
     "data": {
      "text/html": [
       "Og har 95%-konfidensintervallet:"
      ]
     },
     "metadata": {},
     "output_type": "display_data"
    },
    {
     "data": {
      "text/latex": [
       "$ C_{0.95}(\\sigma^2)=\\bigg[\\frac{f_1s_1^2}{\\chi_{1-\\alpha/2}^2(f_1)} \\ , \\ \\frac{f_1s_1^2}{\\chi_{\\alpha/2}^2(f_1)}\\bigg]\n",
       "            = [0.27122156852957, 0.506008081986181] $"
      ]
     },
     "metadata": {},
     "output_type": "display_data"
    },
    {
     "data": {
      "text/html": [
       "<h2>Tester hypotese om ens middelværdi</h2>"
      ]
     },
     "metadata": {},
     "output_type": "display_data"
    },
    {
     "data": {
      "text/html": [
       "Vi laver en $t$-test for at teste hypotesen: $ H_{0\\mu}: \\mu_1 = \\mu_2 = \\mu $"
      ]
     },
     "metadata": {},
     "output_type": "display_data"
    },
    {
     "data": {
      "text/latex": [
       "$ f_1 = f_{(1)} + f_{(2)} = 80 $"
      ]
     },
     "metadata": {},
     "output_type": "display_data"
    },
    {
     "data": {
      "text/html": [
       "t-teststørrelsen er"
      ]
     },
     "metadata": {},
     "output_type": "display_data"
    },
    {
     "data": {
      "text/latex": [
       "$ t(x) = \\frac{ \\bar{x}_1. - \\bar{x}_2.}{\\sqrt{ s_1^2 \\frac{1}{n_1} + \\frac{1}{n_2}}} = -2.28137001758813 \\sim\\sim t(80) $"
      ]
     },
     "metadata": {},
     "output_type": "display_data"
    },
    {
     "data": {
      "text/html": [
       "Testsandsynligheden beregnes som"
      ]
     },
     "metadata": {},
     "output_type": "display_data"
    },
    {
     "data": {
      "text/latex": [
       "$ p_{obs}(x) = 2 \\left(1 - F_{t(f_1)}\\left(\\lvert t(x)\\rvert\\right) \\right) = 0.0251853120033818 $"
      ]
     },
     "metadata": {},
     "output_type": "display_data"
    },
    {
     "data": {
      "text/html": [
       "Da $p_{obs}$ er mindre end $0.05$ <b>forkastes</b> hypotesen om fælles middelværdi."
      ]
     },
     "metadata": {},
     "output_type": "display_data"
    },
    {
     "data": {
      "text/html": [
       "Den estimerede spredning på $ \\bar{x_1}. - \\bar{x_2}. $ er"
      ]
     },
     "metadata": {},
     "output_type": "display_data"
    },
    {
     "data": {
      "text/latex": [
       "$ StdError(\\bar{x_1}. - \\bar{x_2}.) = \\sqrt{s_{(1)}^2 / n_1 + s_{(2)}^2 / n_2} = 0.132793548252412 $"
      ]
     },
     "metadata": {},
     "output_type": "display_data"
    },
    {
     "data": {
      "text/latex": [
       "\\begin{align*} c_{95}(\\mu_1 - \\mu_2)\n",
       "&= \\bar{x_1}. - \\bar{x_2}. \\pm t_{0.975}(\\bar{f}) StdError(\\bar{x_1}. - \\bar{x_2}.) \\\\\n",
       "&= 3.96568292682927 - 4.26863414634146 \\pm 1.99006342125445 \\cdot 0.132793548252412 \\\\\n",
       "&= -0.302951219512196 \\pm 0.264267582955713 \\\\\n",
       "&= [-0.567218802467909, -0.0386836365564826]\n",
       " \\end{align*}"
      ]
     },
     "metadata": {},
     "output_type": "display_data"
    }
   ],
   "source": [
    "printTwoObservations(n1 = 41, n2 = 41, S1 = 162.593, S2 = 175.014, USS1 = 657.028740, USS2 = 763.754248)"
   ]
  },
  {
   "cell_type": "code",
   "execution_count": null,
   "metadata": {
    "collapsed": false
   },
   "outputs": [],
   "source": []
  }
 ],
 "metadata": {
  "kernelspec": {
   "display_name": "R",
   "language": "R",
   "name": "ir"
  },
  "language_info": {
   "codemirror_mode": "r",
   "file_extension": ".r",
   "mimetype": "text/x-r-source",
   "name": "R",
   "pygments_lexer": "r",
   "version": "3.3.2"
  }
 },
 "nbformat": 4,
 "nbformat_minor": 2
}
